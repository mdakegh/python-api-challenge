{
 "cells": [
  {
   "cell_type": "markdown",
   "metadata": {},
   "source": [
    "# WeatherPy\n",
    "----\n",
    "\n",
    "#### Note\n",
    "* Instructions have been included for each segment. You do not have to follow them exactly, but they are included to help you think through the steps."
   ]
  },
  {
   "cell_type": "code",
   "execution_count": 119,
   "metadata": {},
   "outputs": [],
   "source": [
    "## Observations\n",
    "# 1. There is no apparent correlation between city latitude and humidity.\n",
    "# 2. The further a city's latitude is from the equater the lower its average temperature.\n",
    "# 3. There is no apparent correlation between city latitude and cloudiness."
   ]
  },
  {
   "cell_type": "code",
   "execution_count": 94,
   "metadata": {
    "scrolled": true
   },
   "outputs": [],
   "source": [
    "# Dependencies and Setup\n",
    "import matplotlib.pyplot as plt\n",
    "import pandas as pd\n",
    "import numpy as np\n",
    "import requests\n",
    "import time\n",
    "from scipy.stats import linregress\n",
    "\n",
    "# Import API key\n",
    "from api_keys import weather_api_key\n",
    "\n",
    "# Incorporated citipy to determine city based on latitude and longitude\n",
    "from citipy import citipy\n",
    "\n",
    "# Output File (CSV)\n",
    "output_data_file = \"output_data/cities.csv\"\n",
    "\n",
    "# Range of latitudes and longitudes\n",
    "lat_range = (-90, 90)\n",
    "lng_range = (-180, 180)"
   ]
  },
  {
   "cell_type": "markdown",
   "metadata": {},
   "source": [
    "## Generate Cities List"
   ]
  },
  {
   "cell_type": "code",
   "execution_count": 95,
   "metadata": {},
   "outputs": [
    {
     "data": {
      "text/plain": [
       "597"
      ]
     },
     "execution_count": 95,
     "metadata": {},
     "output_type": "execute_result"
    }
   ],
   "source": [
    "# List for holding lat_lngs and cities\n",
    "lat_lngs = []\n",
    "cities = []\n",
    "\n",
    "# Create a set of random lat and lng combinations\n",
    "lats = np.random.uniform(lat_range[0], lat_range[1], size=1500)\n",
    "lngs = np.random.uniform(lng_range[0], lng_range[1], size=1500)\n",
    "lat_lngs = zip(lats, lngs)\n",
    "\n",
    "# Identify nearest city for each lat, lng combination\n",
    "for lat_lng in lat_lngs:\n",
    "    city = citipy.nearest_city(lat_lng[0], lat_lng[1]).city_name\n",
    "    \n",
    "    # If the city is unique, then add it to a our cities list\n",
    "    if city not in cities:\n",
    "        cities.append(city)\n",
    "\n",
    "# Print the city count to confirm sufficient count\n",
    "len(cities)"
   ]
  },
  {
   "cell_type": "markdown",
   "metadata": {},
   "source": [
    "### Perform API Calls\n",
    "* Perform a weather check on each city using a series of successive API calls.\n",
    "* Include a print log of each city as it'sbeing processed (with the city number and city name).\n"
   ]
  },
  {
   "cell_type": "code",
   "execution_count": 96,
   "metadata": {},
   "outputs": [],
   "source": [
    "# Save config information:\n",
    "url='http://api.openweathermap.org/data/2.5/weather?'\n",
    "units='imperial'\n",
    "\n",
    "# Build partial query URL:\n",
    "query_url=f'{url}appid={weather_api_key}&units={units}&q='"
   ]
  },
  {
   "cell_type": "code",
   "execution_count": 97,
   "metadata": {
    "scrolled": true
   },
   "outputs": [
    {
     "name": "stdout",
     "output_type": "stream",
     "text": [
      "Beginning Data Retrieval\n",
      "-----------------------------\n",
      "Processing Record 1 of 597 | albany\n",
      "Processing Record 2 of 597 | qaqortoq\n",
      "Processing Record 3 of 597 | busselton\n",
      "Processing Record 4 of 597 | kiruna\n",
      "Processing Record 5 of 597 | souillac\n",
      "Processing Record 6 of 597 | kapaa\n",
      "Processing Record 7 of 597 | suleja\n",
      "Processing Record 8 of 597 | qaanaaq\n",
      "Processing Record 9 of 597 | talnakh\n",
      "Processing Record 10 of 597 | carnarvon\n",
      "Processing Record 11 of 597 | vaitupu\n",
      "vaitupu city not found. Skipping...\n",
      "Processing Record 12 of 597 | cape town\n",
      "Processing Record 13 of 597 | tiksi\n",
      "Processing Record 14 of 597 | okara\n",
      "Processing Record 15 of 597 | ambanja\n",
      "Processing Record 16 of 597 | podosinovets\n",
      "Processing Record 17 of 597 | illoqqortoormiut\n",
      "illoqqortoormiut city not found. Skipping...\n",
      "Processing Record 18 of 597 | avarua\n",
      "Processing Record 19 of 597 | hobart\n",
      "Processing Record 20 of 597 | barrow\n",
      "Processing Record 21 of 597 | vallenar\n",
      "Processing Record 22 of 597 | barentsburg\n",
      "barentsburg city not found. Skipping...\n",
      "Processing Record 23 of 597 | mahebourg\n",
      "Processing Record 24 of 597 | thompson\n",
      "Processing Record 25 of 597 | ronne\n",
      "Processing Record 26 of 597 | nemuro\n",
      "Processing Record 27 of 597 | ushuaia\n",
      "Processing Record 28 of 597 | olafsvik\n",
      "Processing Record 29 of 597 | uaua\n",
      "Processing Record 30 of 597 | hermanus\n",
      "Processing Record 31 of 597 | wagar\n",
      "Processing Record 32 of 597 | plettenberg bay\n",
      "Processing Record 33 of 597 | chuy\n",
      "Processing Record 34 of 597 | port alfred\n",
      "Processing Record 35 of 597 | victoria\n",
      "Processing Record 36 of 597 | new norfolk\n",
      "Processing Record 37 of 597 | mataura\n",
      "Processing Record 38 of 597 | hilo\n",
      "Processing Record 39 of 597 | riyadh\n",
      "Processing Record 40 of 597 | punta arenas\n",
      "Processing Record 41 of 597 | dikson\n",
      "Processing Record 42 of 597 | havelock\n",
      "Processing Record 43 of 597 | leshukonskoye\n",
      "Processing Record 44 of 597 | hithadhoo\n",
      "Processing Record 45 of 597 | yellowknife\n",
      "Processing Record 46 of 597 | nikolskoye\n",
      "Processing Record 47 of 597 | codrington\n",
      "Processing Record 48 of 597 | grand-santi\n",
      "Processing Record 49 of 597 | atuona\n",
      "Processing Record 50 of 597 | tuktoyaktuk\n",
      "Processing Record 51 of 597 | buchanan\n",
      "Processing Record 52 of 597 | airai\n",
      "Processing Record 53 of 597 | coquimbo\n",
      "Processing Record 54 of 597 | rikitea\n",
      "Processing Record 55 of 597 | khatanga\n",
      "Processing Record 56 of 597 | srednekolymsk\n",
      "Processing Record 57 of 597 | laguna\n",
      "Processing Record 58 of 597 | sitka\n",
      "Processing Record 59 of 597 | port elizabeth\n",
      "Processing Record 60 of 597 | taolanaro\n",
      "taolanaro city not found. Skipping...\n",
      "Processing Record 61 of 597 | hanko\n",
      "Processing Record 62 of 597 | cherskiy\n",
      "Processing Record 63 of 597 | geraldton\n",
      "Processing Record 64 of 597 | san quintin\n",
      "Processing Record 65 of 597 | rockingham\n",
      "Processing Record 66 of 597 | amderma\n",
      "amderma city not found. Skipping...\n",
      "Processing Record 67 of 597 | haikou\n",
      "Processing Record 68 of 597 | ilulissat\n",
      "Processing Record 69 of 597 | chapais\n",
      "Processing Record 70 of 597 | puerto ayora\n",
      "Processing Record 71 of 597 | maarianhamina\n",
      "Processing Record 72 of 597 | camacha\n",
      "Processing Record 73 of 597 | aklavik\n",
      "Processing Record 74 of 597 | quiindy\n",
      "Processing Record 75 of 597 | luau\n",
      "Processing Record 76 of 597 | mar del plata\n",
      "Processing Record 77 of 597 | hope\n",
      "Processing Record 78 of 597 | tazovskiy\n",
      "Processing Record 79 of 597 | lavrentiya\n",
      "Processing Record 80 of 597 | bluff\n",
      "Processing Record 81 of 597 | vaini\n",
      "Processing Record 82 of 597 | vila franca do campo\n",
      "Processing Record 83 of 597 | kouroussa\n",
      "Processing Record 84 of 597 | lompoc\n",
      "Processing Record 85 of 597 | leningradskiy\n",
      "Processing Record 86 of 597 | bethel\n",
      "Processing Record 87 of 597 | okhotsk\n",
      "Processing Record 88 of 597 | peterhead\n",
      "Processing Record 89 of 597 | masterton\n",
      "Processing Record 90 of 597 | rapar\n",
      "Processing Record 91 of 597 | esperance\n",
      "Processing Record 92 of 597 | tasiilaq\n",
      "Processing Record 93 of 597 | meyungs\n",
      "meyungs city not found. Skipping...\n",
      "Processing Record 94 of 597 | sept-iles\n",
      "Processing Record 95 of 597 | longyearbyen\n",
      "Processing Record 96 of 597 | ancud\n",
      "Processing Record 97 of 597 | mrirt\n",
      "mrirt city not found. Skipping...\n",
      "Processing Record 98 of 597 | faanui\n",
      "Processing Record 99 of 597 | cabo san lucas\n",
      "Processing Record 100 of 597 | surany\n",
      "Processing Record 101 of 597 | kiama\n",
      "Processing Record 102 of 597 | karratha\n",
      "Processing Record 103 of 597 | murgab\n",
      "Processing Record 104 of 597 | coahuayana\n",
      "Processing Record 105 of 597 | mayo\n",
      "Processing Record 106 of 597 | rosarito\n",
      "Processing Record 107 of 597 | kuito\n",
      "Processing Record 108 of 597 | ust-karsk\n",
      "Processing Record 109 of 597 | nizhneyansk\n",
      "nizhneyansk city not found. Skipping...\n",
      "Processing Record 110 of 597 | burnie\n",
      "Processing Record 111 of 597 | kiunga\n",
      "Processing Record 112 of 597 | shimoda\n",
      "Processing Record 113 of 597 | attawapiskat\n",
      "attawapiskat city not found. Skipping...\n",
      "Processing Record 114 of 597 | egvekinot\n",
      "Processing Record 115 of 597 | alotau\n",
      "alotau city not found. Skipping...\n",
      "Processing Record 116 of 597 | carutapera\n",
      "Processing Record 117 of 597 | samusu\n",
      "samusu city not found. Skipping...\n",
      "Processing Record 118 of 597 | mys shmidta\n",
      "mys shmidta city not found. Skipping...\n",
      "Processing Record 119 of 597 | sabzevar\n",
      "Processing Record 120 of 597 | pulawy\n",
      "Processing Record 121 of 597 | atar\n",
      "Processing Record 122 of 597 | kahului\n",
      "Processing Record 123 of 597 | sabang\n",
      "Processing Record 124 of 597 | itaiba\n",
      "Processing Record 125 of 597 | yanji\n",
      "Processing Record 126 of 597 | abu zabad\n",
      "Processing Record 127 of 597 | dubbo\n",
      "Processing Record 128 of 597 | iqaluit\n",
      "Processing Record 129 of 597 | sinnamary\n",
      "Processing Record 130 of 597 | chara\n",
      "Processing Record 131 of 597 | dutlwe\n",
      "Processing Record 132 of 597 | hasaki\n",
      "Processing Record 133 of 597 | bonavista\n",
      "Processing Record 134 of 597 | kavieng\n",
      "Processing Record 135 of 597 | gasa\n",
      "Processing Record 136 of 597 | kholodnyy\n",
      "Processing Record 137 of 597 | novosokolniki\n",
      "Processing Record 138 of 597 | wyndham\n",
      "Processing Record 139 of 597 | bredasdorp\n",
      "Processing Record 140 of 597 | buala\n",
      "Processing Record 141 of 597 | acarau\n",
      "Processing Record 142 of 597 | gisborne\n",
      "Processing Record 143 of 597 | nalut\n",
      "Processing Record 144 of 597 | georgetown\n",
      "Processing Record 145 of 597 | jamestown\n",
      "Processing Record 146 of 597 | takoradi\n",
      "Processing Record 147 of 597 | conceicao do araguaia\n",
      "Processing Record 148 of 597 | mocuba\n",
      "Processing Record 149 of 597 | soyo\n",
      "Processing Record 150 of 597 | novyy urengoy\n",
      "Processing Record 151 of 597 | mulanje\n",
      "Processing Record 152 of 597 | qingdao\n",
      "Processing Record 153 of 597 | arraial do cabo\n",
      "Processing Record 154 of 597 | aksu\n",
      "Processing Record 155 of 597 | port hedland\n",
      "Processing Record 156 of 597 | mehamn\n",
      "Processing Record 157 of 597 | andapa\n",
      "Processing Record 158 of 597 | sao jose da coroa grande\n",
      "Processing Record 159 of 597 | saint-philippe\n",
      "Processing Record 160 of 597 | hays\n",
      "Processing Record 161 of 597 | isangel\n",
      "Processing Record 162 of 597 | sovetskiy\n",
      "Processing Record 163 of 597 | nsanje\n",
      "Processing Record 164 of 597 | ipira\n",
      "Processing Record 165 of 597 | saskylakh\n",
      "Processing Record 166 of 597 | prince rupert\n",
      "Processing Record 167 of 597 | butaritari\n",
      "Processing Record 168 of 597 | luorong\n",
      "Processing Record 169 of 597 | borazjan\n",
      "Processing Record 170 of 597 | east london\n",
      "Processing Record 171 of 597 | southbridge\n",
      "Processing Record 172 of 597 | tsihombe\n",
      "tsihombe city not found. Skipping...\n",
      "Processing Record 173 of 597 | kingsport\n",
      "Processing Record 174 of 597 | russell\n",
      "Processing Record 175 of 597 | octeville\n",
      "Processing Record 176 of 597 | rudsar\n",
      "Processing Record 177 of 597 | kodino\n",
      "Processing Record 178 of 597 | bandarbeyla\n",
      "Processing Record 179 of 597 | lebu\n",
      "Processing Record 180 of 597 | muisne\n",
      "Processing Record 181 of 597 | mudgee\n",
      "Processing Record 182 of 597 | zyryanka\n",
      "Processing Record 183 of 597 | yar-sale\n",
      "Processing Record 184 of 597 | leland\n",
      "Processing Record 185 of 597 | whitehorse\n",
      "Processing Record 186 of 597 | jaciara\n",
      "Processing Record 187 of 597 | bada\n",
      "Processing Record 188 of 597 | antofagasta\n",
      "Processing Record 189 of 597 | provideniya\n",
      "Processing Record 190 of 597 | kodiak\n",
      "Processing Record 191 of 597 | yei\n",
      "Processing Record 192 of 597 | nome\n",
      "Processing Record 193 of 597 | kalianget\n",
      "Processing Record 194 of 597 | havre-saint-pierre\n"
     ]
    },
    {
     "name": "stdout",
     "output_type": "stream",
     "text": [
      "Processing Record 195 of 597 | kamenka\n",
      "Processing Record 196 of 597 | hamilton\n",
      "Processing Record 197 of 597 | port-gentil\n",
      "Processing Record 198 of 597 | mingaora\n",
      "Processing Record 199 of 597 | sentyabrskiy\n",
      "sentyabrskiy city not found. Skipping...\n",
      "Processing Record 200 of 597 | cooma\n",
      "Processing Record 201 of 597 | tres arroyos\n",
      "Processing Record 202 of 597 | dicabisagan\n",
      "Processing Record 203 of 597 | pangnirtung\n",
      "Processing Record 204 of 597 | maceio\n",
      "Processing Record 205 of 597 | ribeira grande\n",
      "Processing Record 206 of 597 | batagay\n",
      "Processing Record 207 of 597 | dolbeau\n",
      "dolbeau city not found. Skipping...\n",
      "Processing Record 208 of 597 | samagaltay\n",
      "Processing Record 209 of 597 | itapetininga\n",
      "Processing Record 210 of 597 | aleksandrovsk-sakhalinskiy\n",
      "Processing Record 211 of 597 | yokadouma\n",
      "Processing Record 212 of 597 | daru\n",
      "Processing Record 213 of 597 | fortuna\n",
      "Processing Record 214 of 597 | torbay\n",
      "Processing Record 215 of 597 | narsaq\n",
      "Processing Record 216 of 597 | nueve de julio\n",
      "Processing Record 217 of 597 | ponta do sol\n",
      "Processing Record 218 of 597 | castro\n",
      "Processing Record 219 of 597 | nizhneudinsk\n",
      "Processing Record 220 of 597 | tumannyy\n",
      "tumannyy city not found. Skipping...\n",
      "Processing Record 221 of 597 | bengkulu\n",
      "Processing Record 222 of 597 | morondava\n",
      "Processing Record 223 of 597 | bathsheba\n",
      "Processing Record 224 of 597 | honiara\n",
      "Processing Record 225 of 597 | kazbegi\n",
      "kazbegi city not found. Skipping...\n",
      "Processing Record 226 of 597 | margate\n",
      "Processing Record 227 of 597 | kankon\n",
      "Processing Record 228 of 597 | mvuma\n",
      "Processing Record 229 of 597 | luderitz\n",
      "Processing Record 230 of 597 | barra do garcas\n",
      "Processing Record 231 of 597 | clyde river\n",
      "Processing Record 232 of 597 | santiago\n",
      "Processing Record 233 of 597 | jacareacanga\n",
      "Processing Record 234 of 597 | samalaeulu\n",
      "samalaeulu city not found. Skipping...\n",
      "Processing Record 235 of 597 | pisco\n",
      "Processing Record 236 of 597 | ape\n",
      "Processing Record 237 of 597 | vestmannaeyjar\n",
      "Processing Record 238 of 597 | tripoli\n",
      "Processing Record 239 of 597 | yumbing\n",
      "Processing Record 240 of 597 | broome\n",
      "Processing Record 241 of 597 | boshnyakovo\n",
      "Processing Record 242 of 597 | berdigestyakh\n",
      "Processing Record 243 of 597 | ust-koksa\n",
      "Processing Record 244 of 597 | saint george\n",
      "Processing Record 245 of 597 | pueblo bello\n",
      "Processing Record 246 of 597 | smithers\n",
      "Processing Record 247 of 597 | katsuura\n",
      "Processing Record 248 of 597 | hambantota\n",
      "Processing Record 249 of 597 | san cristobal\n",
      "Processing Record 250 of 597 | yanan\n",
      "yanan city not found. Skipping...\n",
      "Processing Record 251 of 597 | samarai\n",
      "Processing Record 252 of 597 | bataipora\n",
      "Processing Record 253 of 597 | zhigansk\n",
      "Processing Record 254 of 597 | milkovo\n",
      "Processing Record 255 of 597 | ouesso\n",
      "Processing Record 256 of 597 | xuddur\n",
      "Processing Record 257 of 597 | treinta y tres\n",
      "Processing Record 258 of 597 | galiwinku\n",
      "galiwinku city not found. Skipping...\n",
      "Processing Record 259 of 597 | warqla\n",
      "warqla city not found. Skipping...\n",
      "Processing Record 260 of 597 | namatanai\n",
      "Processing Record 261 of 597 | la asuncion\n",
      "Processing Record 262 of 597 | yuncheng\n",
      "Processing Record 263 of 597 | bonthe\n",
      "Processing Record 264 of 597 | khandyga\n",
      "Processing Record 265 of 597 | moron\n",
      "Processing Record 266 of 597 | sola\n",
      "Processing Record 267 of 597 | mana\n",
      "Processing Record 268 of 597 | vao\n",
      "Processing Record 269 of 597 | norman wells\n",
      "Processing Record 270 of 597 | mount isa\n",
      "Processing Record 271 of 597 | mitu\n",
      "Processing Record 272 of 597 | nantucket\n",
      "Processing Record 273 of 597 | estelle\n",
      "Processing Record 274 of 597 | klaksvik\n",
      "Processing Record 275 of 597 | fort saint james\n",
      "Processing Record 276 of 597 | grindavik\n",
      "Processing Record 277 of 597 | tamiahua\n",
      "Processing Record 278 of 597 | kloulklubed\n",
      "Processing Record 279 of 597 | ust-uda\n",
      "Processing Record 280 of 597 | dingle\n",
      "Processing Record 281 of 597 | sisimiut\n",
      "Processing Record 282 of 597 | kudahuvadhoo\n",
      "Processing Record 283 of 597 | chokurdakh\n",
      "Processing Record 284 of 597 | concepcion\n",
      "Processing Record 285 of 597 | porbandar\n",
      "Processing Record 286 of 597 | algeciras\n",
      "Processing Record 287 of 597 | boueni\n",
      "Processing Record 288 of 597 | mattru\n",
      "Processing Record 289 of 597 | taywarah\n",
      "Processing Record 290 of 597 | te anau\n",
      "Processing Record 291 of 597 | collie\n",
      "Processing Record 292 of 597 | maloshuyka\n",
      "maloshuyka city not found. Skipping...\n",
      "Processing Record 293 of 597 | bilibino\n",
      "Processing Record 294 of 597 | tuatapere\n",
      "Processing Record 295 of 597 | berlevag\n",
      "Processing Record 296 of 597 | ambilobe\n",
      "Processing Record 297 of 597 | port hardy\n",
      "Processing Record 298 of 597 | adrar\n",
      "Processing Record 299 of 597 | cidreira\n",
      "Processing Record 300 of 597 | solnechnyy\n",
      "Processing Record 301 of 597 | south lake tahoe\n",
      "Processing Record 302 of 597 | baykit\n",
      "Processing Record 303 of 597 | severo-kurilsk\n",
      "Processing Record 304 of 597 | palabuhanratu\n",
      "palabuhanratu city not found. Skipping...\n",
      "Processing Record 305 of 597 | svetlyy\n",
      "Processing Record 306 of 597 | sao paulo de olivenca\n",
      "Processing Record 307 of 597 | mangrol\n",
      "Processing Record 308 of 597 | korla\n",
      "Processing Record 309 of 597 | guerrero negro\n",
      "Processing Record 310 of 597 | orlik\n",
      "Processing Record 311 of 597 | koslan\n",
      "Processing Record 312 of 597 | bosaso\n",
      "Processing Record 313 of 597 | ranipur\n",
      "Processing Record 314 of 597 | yarada\n",
      "Processing Record 315 of 597 | north battleford\n",
      "Processing Record 316 of 597 | ranong\n",
      "Processing Record 317 of 597 | belushya guba\n",
      "belushya guba city not found. Skipping...\n",
      "Processing Record 318 of 597 | chernyshevskiy\n",
      "Processing Record 319 of 597 | baghdad\n",
      "Processing Record 320 of 597 | tungkang\n",
      "tungkang city not found. Skipping...\n",
      "Processing Record 321 of 597 | caravelas\n",
      "Processing Record 322 of 597 | jiroft\n",
      "jiroft city not found. Skipping...\n",
      "Processing Record 323 of 597 | uniontown\n",
      "Processing Record 324 of 597 | zamora\n",
      "Processing Record 325 of 597 | batsfjord\n",
      "Processing Record 326 of 597 | santa lucia\n",
      "Processing Record 327 of 597 | port macquarie\n",
      "Processing Record 328 of 597 | mount gambier\n",
      "Processing Record 329 of 597 | agadez\n",
      "Processing Record 330 of 597 | kieta\n",
      "Processing Record 331 of 597 | weinan\n",
      "Processing Record 332 of 597 | half moon bay\n",
      "Processing Record 333 of 597 | tamandare\n",
      "Processing Record 334 of 597 | tevaitoa\n",
      "Processing Record 335 of 597 | dongsheng\n",
      "Processing Record 336 of 597 | kaitangata\n",
      "Processing Record 337 of 597 | hargeysa\n",
      "Processing Record 338 of 597 | namibe\n",
      "Processing Record 339 of 597 | minot\n",
      "Processing Record 340 of 597 | otane\n",
      "Processing Record 341 of 597 | idlib\n",
      "Processing Record 342 of 597 | paka\n",
      "Processing Record 343 of 597 | ogbomosho\n",
      "Processing Record 344 of 597 | tilichiki\n",
      "Processing Record 345 of 597 | rio grande\n",
      "Processing Record 346 of 597 | normandin\n",
      "Processing Record 347 of 597 | gigmoto\n",
      "Processing Record 348 of 597 | chelmno\n",
      "Processing Record 349 of 597 | padang\n",
      "Processing Record 350 of 597 | preeceville\n",
      "Processing Record 351 of 597 | montrose\n",
      "Processing Record 352 of 597 | mabaruma\n",
      "Processing Record 353 of 597 | paamiut\n",
      "Processing Record 354 of 597 | yerbogachen\n",
      "Processing Record 355 of 597 | husavik\n",
      "Processing Record 356 of 597 | yatou\n",
      "Processing Record 357 of 597 | ruatoria\n",
      "ruatoria city not found. Skipping...\n",
      "Processing Record 358 of 597 | rio gallegos\n",
      "Processing Record 359 of 597 | bereda\n",
      "Processing Record 360 of 597 | rungata\n",
      "rungata city not found. Skipping...\n",
      "Processing Record 361 of 597 | kamenskoye\n",
      "kamenskoye city not found. Skipping...\n",
      "Processing Record 362 of 597 | jalu\n",
      "Processing Record 363 of 597 | billings\n",
      "Processing Record 364 of 597 | fereydun kenar\n",
      "Processing Record 365 of 597 | selkirk\n",
      "Processing Record 366 of 597 | flinders\n",
      "Processing Record 367 of 597 | lagoa\n",
      "Processing Record 368 of 597 | borba\n",
      "Processing Record 369 of 597 | jiwani\n",
      "Processing Record 370 of 597 | ust-kamchatsk\n",
      "ust-kamchatsk city not found. Skipping...\n",
      "Processing Record 371 of 597 | antalaha\n",
      "Processing Record 372 of 597 | comodoro rivadavia\n",
      "Processing Record 373 of 597 | san patricio\n",
      "Processing Record 374 of 597 | moree\n",
      "Processing Record 375 of 597 | zavoronezhskoye\n",
      "Processing Record 376 of 597 | praia da vitoria\n",
      "Processing Record 377 of 597 | bacolod\n",
      "Processing Record 378 of 597 | kununurra\n",
      "Processing Record 379 of 597 | cotonou\n",
      "Processing Record 380 of 597 | katangli\n"
     ]
    },
    {
     "name": "stdout",
     "output_type": "stream",
     "text": [
      "Processing Record 381 of 597 | cerrito\n",
      "Processing Record 382 of 597 | kencong\n",
      "Processing Record 383 of 597 | pevek\n",
      "Processing Record 384 of 597 | oksfjord\n",
      "Processing Record 385 of 597 | upernavik\n",
      "Processing Record 386 of 597 | hobyo\n",
      "Processing Record 387 of 597 | praya\n",
      "Processing Record 388 of 597 | petropavl\n",
      "Processing Record 389 of 597 | aleksandrov gay\n",
      "Processing Record 390 of 597 | alice springs\n",
      "Processing Record 391 of 597 | jadu\n",
      "Processing Record 392 of 597 | ahipara\n",
      "Processing Record 393 of 597 | constitucion\n",
      "Processing Record 394 of 597 | krasnoselkup\n",
      "Processing Record 395 of 597 | ajdabiya\n",
      "Processing Record 396 of 597 | cocorit\n",
      "Processing Record 397 of 597 | general roca\n",
      "Processing Record 398 of 597 | kitob\n",
      "Processing Record 399 of 597 | cockburn town\n",
      "Processing Record 400 of 597 | kathu\n",
      "Processing Record 401 of 597 | abu kamal\n",
      "Processing Record 402 of 597 | hai duong\n",
      "Processing Record 403 of 597 | asau\n",
      "Processing Record 404 of 597 | umm kaddadah\n",
      "Processing Record 405 of 597 | ostersund\n",
      "Processing Record 406 of 597 | hohhot\n",
      "Processing Record 407 of 597 | naryan-mar\n",
      "Processing Record 408 of 597 | pochutla\n",
      "Processing Record 409 of 597 | obidos\n",
      "Processing Record 410 of 597 | marsh harbour\n",
      "Processing Record 411 of 597 | fomboni\n",
      "Processing Record 412 of 597 | vilhena\n",
      "Processing Record 413 of 597 | lazaro cardenas\n",
      "Processing Record 414 of 597 | along\n",
      "Processing Record 415 of 597 | odienne\n",
      "Processing Record 416 of 597 | helong\n",
      "Processing Record 417 of 597 | jaipur hat\n",
      "jaipur hat city not found. Skipping...\n",
      "Processing Record 418 of 597 | walvis bay\n",
      "Processing Record 419 of 597 | dunedin\n",
      "Processing Record 420 of 597 | salalah\n",
      "Processing Record 421 of 597 | tallahassee\n",
      "Processing Record 422 of 597 | pyu\n",
      "Processing Record 423 of 597 | leon valley\n",
      "Processing Record 424 of 597 | witu\n",
      "Processing Record 425 of 597 | friesach\n",
      "Processing Record 426 of 597 | coihueco\n",
      "Processing Record 427 of 597 | goderich\n",
      "Processing Record 428 of 597 | duobao\n",
      "Processing Record 429 of 597 | ust-kuyga\n",
      "Processing Record 430 of 597 | beyneu\n",
      "Processing Record 431 of 597 | mopti\n",
      "Processing Record 432 of 597 | homer\n",
      "Processing Record 433 of 597 | sakaiminato\n",
      "Processing Record 434 of 597 | araouane\n",
      "Processing Record 435 of 597 | brownsville\n",
      "Processing Record 436 of 597 | ulladulla\n",
      "Processing Record 437 of 597 | the valley\n",
      "Processing Record 438 of 597 | vardo\n",
      "Processing Record 439 of 597 | stoyba\n",
      "stoyba city not found. Skipping...\n",
      "Processing Record 440 of 597 | partenit\n",
      "Processing Record 441 of 597 | awbari\n",
      "Processing Record 442 of 597 | sungaipenuh\n",
      "Processing Record 443 of 597 | beringovskiy\n",
      "Processing Record 444 of 597 | piacabucu\n",
      "Processing Record 445 of 597 | upata\n",
      "Processing Record 446 of 597 | azimur\n",
      "azimur city not found. Skipping...\n",
      "Processing Record 447 of 597 | yulara\n",
      "Processing Record 448 of 597 | sebeta\n",
      "Processing Record 449 of 597 | saint-joseph\n",
      "Processing Record 450 of 597 | otradnoye\n",
      "Processing Record 451 of 597 | muros\n",
      "Processing Record 452 of 597 | mapiripan\n",
      "Processing Record 453 of 597 | okha\n",
      "Processing Record 454 of 597 | hami\n",
      "Processing Record 455 of 597 | tomatlan\n",
      "Processing Record 456 of 597 | sao filipe\n",
      "Processing Record 457 of 597 | yamoussoukro\n",
      "Processing Record 458 of 597 | ambovombe\n",
      "Processing Record 459 of 597 | mairwa\n",
      "Processing Record 460 of 597 | candiis\n",
      "Processing Record 461 of 597 | karaton\n",
      "Processing Record 462 of 597 | raudeberg\n",
      "Processing Record 463 of 597 | redhakhol\n",
      "redhakhol city not found. Skipping...\n",
      "Processing Record 464 of 597 | grand river south east\n",
      "grand river south east city not found. Skipping...\n",
      "Processing Record 465 of 597 | rocha\n",
      "Processing Record 466 of 597 | karlskoga\n",
      "Processing Record 467 of 597 | auki\n",
      "Processing Record 468 of 597 | vila velha\n",
      "Processing Record 469 of 597 | ordynskoye\n",
      "Processing Record 470 of 597 | pilot butte\n",
      "Processing Record 471 of 597 | kyra\n",
      "Processing Record 472 of 597 | lock haven\n",
      "Processing Record 473 of 597 | hay river\n",
      "Processing Record 474 of 597 | cayenne\n",
      "Processing Record 475 of 597 | bloomfield\n",
      "Processing Record 476 of 597 | touros\n",
      "Processing Record 477 of 597 | nabire\n",
      "Processing Record 478 of 597 | andra\n",
      "Processing Record 479 of 597 | olinda\n",
      "Processing Record 480 of 597 | terenos\n",
      "Processing Record 481 of 597 | shingu\n",
      "Processing Record 482 of 597 | xai-xai\n",
      "Processing Record 483 of 597 | ambodifototra\n",
      "ambodifototra city not found. Skipping...\n",
      "Processing Record 484 of 597 | kayan\n",
      "Processing Record 485 of 597 | tezu\n",
      "Processing Record 486 of 597 | tiarei\n",
      "Processing Record 487 of 597 | tarakan\n",
      "Processing Record 488 of 597 | port blair\n",
      "Processing Record 489 of 597 | richards bay\n",
      "Processing Record 490 of 597 | muriti\n",
      "Processing Record 491 of 597 | kaffrine\n",
      "Processing Record 492 of 597 | port-de-paix\n",
      "port-de-paix city not found. Skipping...\n",
      "Processing Record 493 of 597 | sao gabriel da cachoeira\n",
      "Processing Record 494 of 597 | barbar\n",
      "barbar city not found. Skipping...\n",
      "Processing Record 495 of 597 | brae\n",
      "Processing Record 496 of 597 | saint-louis\n",
      "Processing Record 497 of 597 | libenge\n",
      "Processing Record 498 of 597 | ostrovnoy\n",
      "Processing Record 499 of 597 | kracheh\n",
      "kracheh city not found. Skipping...\n",
      "Processing Record 500 of 597 | portland\n",
      "Processing Record 501 of 597 | malakal\n",
      "Processing Record 502 of 597 | ahuimanu\n",
      "Processing Record 503 of 597 | khonuu\n",
      "khonuu city not found. Skipping...\n",
      "Processing Record 504 of 597 | deputatskiy\n",
      "Processing Record 505 of 597 | pechenga\n",
      "Processing Record 506 of 597 | weligama\n",
      "Processing Record 507 of 597 | vanimo\n",
      "Processing Record 508 of 597 | henties bay\n",
      "Processing Record 509 of 597 | saint stephen\n",
      "Processing Record 510 of 597 | avera\n",
      "Processing Record 511 of 597 | spruce grove\n",
      "Processing Record 512 of 597 | acapulco\n",
      "Processing Record 513 of 597 | ciras\n",
      "ciras city not found. Skipping...\n",
      "Processing Record 514 of 597 | nouadhibou\n",
      "Processing Record 515 of 597 | gangapur\n",
      "Processing Record 516 of 597 | grand centre\n",
      "grand centre city not found. Skipping...\n",
      "Processing Record 517 of 597 | nara\n",
      "Processing Record 518 of 597 | hatillo\n",
      "Processing Record 519 of 597 | malinao\n",
      "Processing Record 520 of 597 | ternate\n",
      "Processing Record 521 of 597 | ilhabela\n",
      "Processing Record 522 of 597 | beloha\n",
      "Processing Record 523 of 597 | yelizovo\n",
      "Processing Record 524 of 597 | yeniseysk\n",
      "Processing Record 525 of 597 | saldanha\n",
      "Processing Record 526 of 597 | matamoros\n",
      "Processing Record 527 of 597 | krasnyy chikoy\n",
      "Processing Record 528 of 597 | rawson\n",
      "Processing Record 529 of 597 | alikalia\n",
      "Processing Record 530 of 597 | kurdzhinovo\n",
      "Processing Record 531 of 597 | roma\n",
      "Processing Record 532 of 597 | tanout\n",
      "Processing Record 533 of 597 | ketchikan\n",
      "Processing Record 534 of 597 | marcona\n",
      "marcona city not found. Skipping...\n",
      "Processing Record 535 of 597 | ruzhyn\n",
      "Processing Record 536 of 597 | hervey bay\n",
      "Processing Record 537 of 597 | omsukchan\n",
      "Processing Record 538 of 597 | vavoua\n",
      "Processing Record 539 of 597 | huarmey\n",
      "Processing Record 540 of 597 | phan thiet\n",
      "Processing Record 541 of 597 | ebebiyin\n",
      "Processing Record 542 of 597 | kavaratti\n",
      "Processing Record 543 of 597 | nhulunbuy\n",
      "Processing Record 544 of 597 | saint-francois\n",
      "Processing Record 545 of 597 | dromolaxia\n",
      "Processing Record 546 of 597 | kuytun\n",
      "Processing Record 547 of 597 | anadyr\n",
      "Processing Record 548 of 597 | khash\n",
      "Processing Record 549 of 597 | sayyan\n",
      "Processing Record 550 of 597 | sakakah\n",
      "Processing Record 551 of 597 | kruisfontein\n",
      "Processing Record 552 of 597 | mildura\n",
      "Processing Record 553 of 597 | north bend\n",
      "Processing Record 554 of 597 | quatre cocos\n",
      "Processing Record 555 of 597 | big bend\n",
      "Processing Record 556 of 597 | ust-maya\n",
      "Processing Record 557 of 597 | boa vista\n",
      "Processing Record 558 of 597 | moerai\n",
      "Processing Record 559 of 597 | tabiauea\n",
      "tabiauea city not found. Skipping...\n",
      "Processing Record 560 of 597 | ukiah\n",
      "Processing Record 561 of 597 | baie-comeau\n",
      "Processing Record 562 of 597 | luwuk\n",
      "Processing Record 563 of 597 | doctor pedro p. pena\n",
      "doctor pedro p. pena city not found. Skipping...\n",
      "Processing Record 564 of 597 | roald\n",
      "Processing Record 565 of 597 | saint-augustin\n",
      "Processing Record 566 of 597 | malibu\n",
      "Processing Record 567 of 597 | sapao\n",
      "sapao city not found. Skipping...\n",
      "Processing Record 568 of 597 | lasa\n",
      "Processing Record 569 of 597 | de aar\n"
     ]
    },
    {
     "name": "stdout",
     "output_type": "stream",
     "text": [
      "Processing Record 570 of 597 | pecos\n",
      "Processing Record 571 of 597 | virginia beach\n",
      "Processing Record 572 of 597 | ferry pass\n",
      "Processing Record 573 of 597 | loralai\n",
      "Processing Record 574 of 597 | kytmanovo\n",
      "Processing Record 575 of 597 | ginda\n",
      "Processing Record 576 of 597 | coihaique\n",
      "Processing Record 577 of 597 | black river\n",
      "Processing Record 578 of 597 | santa fe\n",
      "Processing Record 579 of 597 | independencia\n",
      "Processing Record 580 of 597 | tautira\n",
      "Processing Record 581 of 597 | vuktyl\n",
      "Processing Record 582 of 597 | yumen\n",
      "Processing Record 583 of 597 | arrifes\n",
      "Processing Record 584 of 597 | oistins\n",
      "Processing Record 585 of 597 | karauzyak\n",
      "karauzyak city not found. Skipping...\n",
      "Processing Record 586 of 597 | alihe\n",
      "Processing Record 587 of 597 | lar\n",
      "Processing Record 588 of 597 | lixourion\n",
      "Processing Record 589 of 597 | pahrump\n",
      "Processing Record 590 of 597 | tupik\n",
      "Processing Record 591 of 597 | decatur\n",
      "Processing Record 592 of 597 | dakar\n",
      "Processing Record 593 of 597 | koumac\n",
      "Processing Record 594 of 597 | skjervoy\n",
      "Processing Record 595 of 597 | omboue\n",
      "Processing Record 596 of 597 | bambanglipuro\n",
      "Processing Record 597 of 597 | arcelia\n"
     ]
    }
   ],
   "source": [
    "# Set up lists to hold response info:\n",
    "city_name=[]    # list for city name\n",
    "cloud=[]        # list for cloudines\n",
    "ctry=[]         # list for country\n",
    "date=[]         # list for date\n",
    "humi=[]         # list for humidity\n",
    "lat=[]          # list for latitude\n",
    "lng=[]          # list for longitude\n",
    "maxtemp=[]      # list for max temperature\n",
    "wind=[]         # list for wind speed\n",
    "\n",
    "# Loop through the list of cities and perform a request for data on each and add data to corresponding lists:\n",
    "\n",
    "count=1 # Set counter to start value 1 for printouts of the current set count.\n",
    "\n",
    "print('Beginning Data Retrieval')     \n",
    "print('-----------------------------')\n",
    "for city in cities:\n",
    "        response=requests.get(query_url + city).json()\n",
    "        \n",
    "        print('Processing Record ' + str(count) + ' of ' + str(len(cities)) + ' | ' + city)\n",
    "        \n",
    "        try:                                              \n",
    "            city_name.append(response['name'])\n",
    "            cloud.append(response['clouds']['all'])\n",
    "            ctry.append(response['sys']['country'])\n",
    "            date.append(response['dt'])\n",
    "            humi.append(response['main']['humidity'])             \n",
    "            lat.append(response['coord']['lat'])\n",
    "            lng.append(response['coord']['lon'])             \n",
    "            maxtemp.append(response['main']['temp_max'])\n",
    "            wind.append(response['wind']['speed'])     \n",
    "        except KeyError:\n",
    "            \n",
    "            print(city + ' city not found. Skipping...') \n",
    "            \n",
    "        count=count+1"
   ]
  },
  {
   "cell_type": "markdown",
   "metadata": {},
   "source": [
    "### Convert Raw Data to DataFrame\n",
    "* Export the city data into a .csv.\n",
    "* Display the DataFrame"
   ]
  },
  {
   "cell_type": "code",
   "execution_count": 99,
   "metadata": {
    "scrolled": true
   },
   "outputs": [
    {
     "data": {
      "text/plain": [
       "City               550\n",
       "Country            550\n",
       "Date               550\n",
       "Latitude           550\n",
       "Longitude          550\n",
       "Max Temperature    550\n",
       "Humidity           550\n",
       "Cloudiness         550\n",
       "Wind Speed         550\n",
       "dtype: int64"
      ]
     },
     "execution_count": 99,
     "metadata": {},
     "output_type": "execute_result"
    }
   ],
   "source": [
    "# Create a DataFrame from Cities, Latitude, Longitude, Temperature, Humidity, Cloudiness & Wind Speed\n",
    "weather_dict = {\n",
    "    \"City\": city_name,\n",
    "    \"Country\": ctry,\n",
    "    \"Date\": date,\n",
    "    \"Latitude\": lat,\n",
    "    \"Longitude\": lng,\n",
    "    \"Max Temperature\": maxtemp,\n",
    "    \"Humidity\": humi,\n",
    "    \"Cloudiness\": cloud,\n",
    "    \"Wind Speed\": wind\n",
    "}\n",
    "\n",
    "weather_data = pd.DataFrame(weather_dict)\n",
    "weather_data.count()"
   ]
  },
  {
   "cell_type": "code",
   "execution_count": 100,
   "metadata": {},
   "outputs": [
    {
     "data": {
      "text/html": [
       "<div>\n",
       "<style scoped>\n",
       "    .dataframe tbody tr th:only-of-type {\n",
       "        vertical-align: middle;\n",
       "    }\n",
       "\n",
       "    .dataframe tbody tr th {\n",
       "        vertical-align: top;\n",
       "    }\n",
       "\n",
       "    .dataframe thead th {\n",
       "        text-align: right;\n",
       "    }\n",
       "</style>\n",
       "<table border=\"1\" class=\"dataframe\">\n",
       "  <thead>\n",
       "    <tr style=\"text-align: right;\">\n",
       "      <th></th>\n",
       "      <th>City</th>\n",
       "      <th>Country</th>\n",
       "      <th>Date</th>\n",
       "      <th>Latitude</th>\n",
       "      <th>Longitude</th>\n",
       "      <th>Max Temperature</th>\n",
       "      <th>Humidity</th>\n",
       "      <th>Cloudiness</th>\n",
       "      <th>Wind Speed</th>\n",
       "    </tr>\n",
       "  </thead>\n",
       "  <tbody>\n",
       "    <tr>\n",
       "      <th>0</th>\n",
       "      <td>Albany</td>\n",
       "      <td>US</td>\n",
       "      <td>1666741108</td>\n",
       "      <td>42.6001</td>\n",
       "      <td>-73.9662</td>\n",
       "      <td>67.39</td>\n",
       "      <td>88</td>\n",
       "      <td>83</td>\n",
       "      <td>4.54</td>\n",
       "    </tr>\n",
       "    <tr>\n",
       "      <th>1</th>\n",
       "      <td>Qaqortoq</td>\n",
       "      <td>GL</td>\n",
       "      <td>1666741109</td>\n",
       "      <td>60.7167</td>\n",
       "      <td>-46.0333</td>\n",
       "      <td>28.27</td>\n",
       "      <td>71</td>\n",
       "      <td>0</td>\n",
       "      <td>6.71</td>\n",
       "    </tr>\n",
       "    <tr>\n",
       "      <th>2</th>\n",
       "      <td>Busselton</td>\n",
       "      <td>AU</td>\n",
       "      <td>1666741110</td>\n",
       "      <td>-33.6500</td>\n",
       "      <td>115.3333</td>\n",
       "      <td>57.24</td>\n",
       "      <td>79</td>\n",
       "      <td>82</td>\n",
       "      <td>8.77</td>\n",
       "    </tr>\n",
       "    <tr>\n",
       "      <th>3</th>\n",
       "      <td>Kiruna</td>\n",
       "      <td>SE</td>\n",
       "      <td>1666741110</td>\n",
       "      <td>67.8557</td>\n",
       "      <td>20.2251</td>\n",
       "      <td>23.47</td>\n",
       "      <td>90</td>\n",
       "      <td>97</td>\n",
       "      <td>2.64</td>\n",
       "    </tr>\n",
       "    <tr>\n",
       "      <th>4</th>\n",
       "      <td>Souillac</td>\n",
       "      <td>MU</td>\n",
       "      <td>1666741110</td>\n",
       "      <td>-20.5167</td>\n",
       "      <td>57.5167</td>\n",
       "      <td>71.98</td>\n",
       "      <td>83</td>\n",
       "      <td>40</td>\n",
       "      <td>9.22</td>\n",
       "    </tr>\n",
       "  </tbody>\n",
       "</table>\n",
       "</div>"
      ],
      "text/plain": [
       "        City Country        Date  Latitude  Longitude  Max Temperature  \\\n",
       "0     Albany      US  1666741108   42.6001   -73.9662            67.39   \n",
       "1   Qaqortoq      GL  1666741109   60.7167   -46.0333            28.27   \n",
       "2  Busselton      AU  1666741110  -33.6500   115.3333            57.24   \n",
       "3     Kiruna      SE  1666741110   67.8557    20.2251            23.47   \n",
       "4   Souillac      MU  1666741110  -20.5167    57.5167            71.98   \n",
       "\n",
       "   Humidity  Cloudiness  Wind Speed  \n",
       "0        88          83        4.54  \n",
       "1        71           0        6.71  \n",
       "2        79          82        8.77  \n",
       "3        90          97        2.64  \n",
       "4        83          40        9.22  "
      ]
     },
     "execution_count": 100,
     "metadata": {},
     "output_type": "execute_result"
    }
   ],
   "source": [
    "# Display DataFrame\n",
    "weather_data.head()"
   ]
  },
  {
   "cell_type": "code",
   "execution_count": 101,
   "metadata": {},
   "outputs": [],
   "source": [
    "# Export & Save Data Into a .csv.\n",
    "weather_data.to_csv(\"../WeatherPy/weather_data.csv\")"
   ]
  },
  {
   "cell_type": "markdown",
   "metadata": {},
   "source": [
    "## Inspect the data and remove the cities where the humidity > 100%.\n",
    "----\n",
    "Skip this step if there are no cities that have humidity > 100%. "
   ]
  },
  {
   "cell_type": "code",
   "execution_count": 102,
   "metadata": {},
   "outputs": [
    {
     "data": {
      "text/plain": [
       "count    550.000000\n",
       "mean      74.232727\n",
       "std       19.994544\n",
       "min        1.000000\n",
       "25%       65.000000\n",
       "50%       80.000000\n",
       "75%       90.000000\n",
       "max      100.000000\n",
       "Name: Humidity, dtype: float64"
      ]
     },
     "execution_count": 102,
     "metadata": {},
     "output_type": "execute_result"
    }
   ],
   "source": [
    "#check if there are any cities with Humidity >100% \n",
    "weather_data[\"Humidity\"].describe()"
   ]
  },
  {
   "cell_type": "code",
   "execution_count": 103,
   "metadata": {},
   "outputs": [
    {
     "data": {
      "text/plain": [
       "Int64Index([], dtype='int64')"
      ]
     },
     "execution_count": 103,
     "metadata": {},
     "output_type": "execute_result"
    }
   ],
   "source": [
    "#  Get the indices of cities that have humidity over 100%.\n",
    "humidity_101 = weather_data[(weather_data[\"Humidity\"] > 100)].index\n",
    "humidity_101"
   ]
  },
  {
   "cell_type": "code",
   "execution_count": 104,
   "metadata": {},
   "outputs": [
    {
     "data": {
      "text/html": [
       "<div>\n",
       "<style scoped>\n",
       "    .dataframe tbody tr th:only-of-type {\n",
       "        vertical-align: middle;\n",
       "    }\n",
       "\n",
       "    .dataframe tbody tr th {\n",
       "        vertical-align: top;\n",
       "    }\n",
       "\n",
       "    .dataframe thead th {\n",
       "        text-align: right;\n",
       "    }\n",
       "</style>\n",
       "<table border=\"1\" class=\"dataframe\">\n",
       "  <thead>\n",
       "    <tr style=\"text-align: right;\">\n",
       "      <th></th>\n",
       "      <th>City</th>\n",
       "      <th>Country</th>\n",
       "      <th>Date</th>\n",
       "      <th>Latitude</th>\n",
       "      <th>Longitude</th>\n",
       "      <th>Max Temperature</th>\n",
       "      <th>Humidity</th>\n",
       "      <th>Cloudiness</th>\n",
       "      <th>Wind Speed</th>\n",
       "    </tr>\n",
       "  </thead>\n",
       "  <tbody>\n",
       "    <tr>\n",
       "      <th>0</th>\n",
       "      <td>Albany</td>\n",
       "      <td>US</td>\n",
       "      <td>1666741108</td>\n",
       "      <td>42.6001</td>\n",
       "      <td>-73.9662</td>\n",
       "      <td>67.39</td>\n",
       "      <td>88</td>\n",
       "      <td>83</td>\n",
       "      <td>4.54</td>\n",
       "    </tr>\n",
       "    <tr>\n",
       "      <th>1</th>\n",
       "      <td>Qaqortoq</td>\n",
       "      <td>GL</td>\n",
       "      <td>1666741109</td>\n",
       "      <td>60.7167</td>\n",
       "      <td>-46.0333</td>\n",
       "      <td>28.27</td>\n",
       "      <td>71</td>\n",
       "      <td>0</td>\n",
       "      <td>6.71</td>\n",
       "    </tr>\n",
       "    <tr>\n",
       "      <th>2</th>\n",
       "      <td>Busselton</td>\n",
       "      <td>AU</td>\n",
       "      <td>1666741110</td>\n",
       "      <td>-33.6500</td>\n",
       "      <td>115.3333</td>\n",
       "      <td>57.24</td>\n",
       "      <td>79</td>\n",
       "      <td>82</td>\n",
       "      <td>8.77</td>\n",
       "    </tr>\n",
       "    <tr>\n",
       "      <th>3</th>\n",
       "      <td>Kiruna</td>\n",
       "      <td>SE</td>\n",
       "      <td>1666741110</td>\n",
       "      <td>67.8557</td>\n",
       "      <td>20.2251</td>\n",
       "      <td>23.47</td>\n",
       "      <td>90</td>\n",
       "      <td>97</td>\n",
       "      <td>2.64</td>\n",
       "    </tr>\n",
       "    <tr>\n",
       "      <th>4</th>\n",
       "      <td>Souillac</td>\n",
       "      <td>MU</td>\n",
       "      <td>1666741110</td>\n",
       "      <td>-20.5167</td>\n",
       "      <td>57.5167</td>\n",
       "      <td>71.98</td>\n",
       "      <td>83</td>\n",
       "      <td>40</td>\n",
       "      <td>9.22</td>\n",
       "    </tr>\n",
       "    <tr>\n",
       "      <th>...</th>\n",
       "      <td>...</td>\n",
       "      <td>...</td>\n",
       "      <td>...</td>\n",
       "      <td>...</td>\n",
       "      <td>...</td>\n",
       "      <td>...</td>\n",
       "      <td>...</td>\n",
       "      <td>...</td>\n",
       "      <td>...</td>\n",
       "    </tr>\n",
       "    <tr>\n",
       "      <th>545</th>\n",
       "      <td>Koumac</td>\n",
       "      <td>NC</td>\n",
       "      <td>1666741296</td>\n",
       "      <td>-20.5667</td>\n",
       "      <td>164.2833</td>\n",
       "      <td>78.93</td>\n",
       "      <td>72</td>\n",
       "      <td>10</td>\n",
       "      <td>6.22</td>\n",
       "    </tr>\n",
       "    <tr>\n",
       "      <th>546</th>\n",
       "      <td>Skjervøy</td>\n",
       "      <td>NO</td>\n",
       "      <td>1666741296</td>\n",
       "      <td>70.0311</td>\n",
       "      <td>20.9714</td>\n",
       "      <td>28.40</td>\n",
       "      <td>57</td>\n",
       "      <td>100</td>\n",
       "      <td>3.09</td>\n",
       "    </tr>\n",
       "    <tr>\n",
       "      <th>547</th>\n",
       "      <td>Omboué</td>\n",
       "      <td>GA</td>\n",
       "      <td>1666741297</td>\n",
       "      <td>-1.5746</td>\n",
       "      <td>9.2618</td>\n",
       "      <td>76.75</td>\n",
       "      <td>89</td>\n",
       "      <td>98</td>\n",
       "      <td>2.75</td>\n",
       "    </tr>\n",
       "    <tr>\n",
       "      <th>548</th>\n",
       "      <td>Bambanglipuro</td>\n",
       "      <td>ID</td>\n",
       "      <td>1666741297</td>\n",
       "      <td>-7.9500</td>\n",
       "      <td>110.2833</td>\n",
       "      <td>78.13</td>\n",
       "      <td>80</td>\n",
       "      <td>100</td>\n",
       "      <td>6.29</td>\n",
       "    </tr>\n",
       "    <tr>\n",
       "      <th>549</th>\n",
       "      <td>Arcelia</td>\n",
       "      <td>MX</td>\n",
       "      <td>1666741297</td>\n",
       "      <td>18.2833</td>\n",
       "      <td>-100.2667</td>\n",
       "      <td>79.18</td>\n",
       "      <td>81</td>\n",
       "      <td>83</td>\n",
       "      <td>1.01</td>\n",
       "    </tr>\n",
       "  </tbody>\n",
       "</table>\n",
       "<p>550 rows × 9 columns</p>\n",
       "</div>"
      ],
      "text/plain": [
       "              City Country        Date  Latitude  Longitude  Max Temperature  \\\n",
       "0           Albany      US  1666741108   42.6001   -73.9662            67.39   \n",
       "1         Qaqortoq      GL  1666741109   60.7167   -46.0333            28.27   \n",
       "2        Busselton      AU  1666741110  -33.6500   115.3333            57.24   \n",
       "3           Kiruna      SE  1666741110   67.8557    20.2251            23.47   \n",
       "4         Souillac      MU  1666741110  -20.5167    57.5167            71.98   \n",
       "..             ...     ...         ...       ...        ...              ...   \n",
       "545         Koumac      NC  1666741296  -20.5667   164.2833            78.93   \n",
       "546       Skjervøy      NO  1666741296   70.0311    20.9714            28.40   \n",
       "547         Omboué      GA  1666741297   -1.5746     9.2618            76.75   \n",
       "548  Bambanglipuro      ID  1666741297   -7.9500   110.2833            78.13   \n",
       "549        Arcelia      MX  1666741297   18.2833  -100.2667            79.18   \n",
       "\n",
       "     Humidity  Cloudiness  Wind Speed  \n",
       "0          88          83        4.54  \n",
       "1          71           0        6.71  \n",
       "2          79          82        8.77  \n",
       "3          90          97        2.64  \n",
       "4          83          40        9.22  \n",
       "..        ...         ...         ...  \n",
       "545        72          10        6.22  \n",
       "546        57         100        3.09  \n",
       "547        89          98        2.75  \n",
       "548        80         100        6.29  \n",
       "549        81          83        1.01  \n",
       "\n",
       "[550 rows x 9 columns]"
      ]
     },
     "execution_count": 104,
     "metadata": {},
     "output_type": "execute_result"
    }
   ],
   "source": [
    "# Make a new DataFrame equal to the city data to drop all humidity outliers by index.\n",
    "# Passing \"inplace=False\" will make a copy of the city_data DataFrame, which we call \"clean_city_data\".\n",
    "clean_city_data = weather_data.drop(humidity_101, inplace=False)\n",
    "clean_city_data"
   ]
  },
  {
   "cell_type": "code",
   "execution_count": 105,
   "metadata": {},
   "outputs": [],
   "source": [
    "# Export the filtered city data into a csv\n",
    "clean_city_data.to_csv(\"../WeatherPy/clean_city_data.csv\", index_label=\"City_ID\")\n"
   ]
  },
  {
   "cell_type": "markdown",
   "metadata": {},
   "source": [
    "## Plotting the Data\n",
    "* Use proper labeling of the plots using plot titles (including date of analysis) and axes labels.\n",
    "* Save the plotted figures as .pngs."
   ]
  },
  {
   "cell_type": "markdown",
   "metadata": {},
   "source": [
    "## Latitude vs. Temperature Plot"
   ]
  },
  {
   "cell_type": "code",
   "execution_count": 106,
   "metadata": {
    "scrolled": true
   },
   "outputs": [
    {
     "data": {
      "image/png": "[encoded data removed]",
      "text/plain": [
       "<Figure size 432x288 with 1 Axes>"
      ]
     },
     "metadata": {
      "needs_background": "light"
     },
     "output_type": "display_data"
    },
    {
     "data": {
      "text/plain": [
       "<Figure size 432x288 with 0 Axes>"
      ]
     },
     "metadata": {},
     "output_type": "display_data"
    }
   ],
   "source": [
    "# Build Scatter Plot for Each Data Type\n",
    "plt.scatter(weather_data[\"Latitude\"], weather_data[\"Max Temperature\"], facecolors=\"blue\", marker=\"o\", edgecolor=\"black\")\n",
    "\n",
    "# Incorporate Other Graph Properties\n",
    "plt.title(\"City Latitude vs. Max Temperature (10/25/2022)\")\n",
    "plt.ylabel(\"Max Temperature (Ã‚Â°F)\")\n",
    "plt.xlabel(\"Latitude\")\n",
    "plt.grid(True)\n",
    "\n",
    "# Show Plot\n",
    "plt.show()\n",
    "\n",
    "# Save Figure\n",
    "plt.savefig(\"../WeatherPy/City_Latitude_vs_Max_Temperature.png\")"
   ]
  },
  {
   "cell_type": "markdown",
   "metadata": {},
   "source": [
    "## Latitude vs. Humidity Plot"
   ]
  },
  {
   "cell_type": "code",
   "execution_count": 107,
   "metadata": {},
   "outputs": [
    {
     "data": {
      "image/png": "[encoded data removed]",
      "text/plain": [
       "<Figure size 432x288 with 1 Axes>"
      ]
     },
     "metadata": {
      "needs_background": "light"
     },
     "output_type": "display_data"
    },
    {
     "data": {
      "text/plain": [
       "<Figure size 432x288 with 0 Axes>"
      ]
     },
     "metadata": {},
     "output_type": "display_data"
    }
   ],
   "source": [
    "# Build Scatter Plot for Each Data Type\n",
    "plt.scatter(weather_data[\"Latitude\"], weather_data[\"Humidity\"], facecolors=\"blue\", marker=\"o\", edgecolor=\"black\")\n",
    "# Incorporate Other Graph Properties\n",
    "plt.title(\"City Latitude vs. Humidity (10/25/2022)\")\n",
    "plt.ylabel(\"Humidity (%)\")\n",
    "plt.xlabel(\"Latitude\")\n",
    "plt.grid(True)\n",
    "\n",
    "# Show Plot\n",
    "plt.show()\n",
    "\n",
    "# Save Figure\n",
    "plt.savefig(\"../WeatherPy/City_Latitude_vs_Humidity.png\")\n"
   ]
  },
  {
   "cell_type": "markdown",
   "metadata": {},
   "source": [
    "## Latitude vs. Cloudiness Plot"
   ]
  },
  {
   "cell_type": "code",
   "execution_count": 108,
   "metadata": {},
   "outputs": [
    {
     "data": {
      "image/png": "[encoded data removed]",
      "text/plain": [
       "<Figure size 432x288 with 1 Axes>"
      ]
     },
     "metadata": {
      "needs_background": "light"
     },
     "output_type": "display_data"
    },
    {
     "data": {
      "text/plain": [
       "<Figure size 432x288 with 0 Axes>"
      ]
     },
     "metadata": {},
     "output_type": "display_data"
    }
   ],
   "source": [
    "# Build Scatter Plot for Each Data Type\n",
    "plt.scatter(weather_data[\"Latitude\"], weather_data[\"Cloudiness\"], facecolors=\"blue\", marker=\"o\", edgecolor=\"black\")\n",
    "\n",
    "# Incorporate Other Graph Properties\n",
    "plt.title(\"City Latitude vs. Cloudiness (10/25/2022)\")\n",
    "plt.ylabel(\"Cloudiness (%)\")\n",
    "plt.xlabel(\"Latitude\")\n",
    "plt.grid(True)\n",
    "\n",
    "# Show Plot\n",
    "plt.show()\n",
    "\n",
    "# Save Figure\n",
    "plt.savefig(\"../WeatherPy/City_Latitude_vs_Cloudiness.png\")"
   ]
  },
  {
   "cell_type": "markdown",
   "metadata": {},
   "source": [
    "## Latitude vs. Wind Speed Plot"
   ]
  },
  {
   "cell_type": "code",
   "execution_count": 109,
   "metadata": {},
   "outputs": [
    {
     "data": {
      "image/png": "[encoded data removed]",
      "text/plain": [
       "<Figure size 432x288 with 1 Axes>"
      ]
     },
     "metadata": {
      "needs_background": "light"
     },
     "output_type": "display_data"
    },
    {
     "data": {
      "text/plain": [
       "<Figure size 432x288 with 0 Axes>"
      ]
     },
     "metadata": {},
     "output_type": "display_data"
    }
   ],
   "source": [
    "# Build Scatter Plot for Each Data Type\n",
    "plt.scatter(weather_data[\"Latitude\"], weather_data[\"Wind Speed\"], facecolors=\"blue\", marker=\"o\", edgecolor=\"black\")\n",
    "\n",
    "# Incorporate Other Graph Properties\n",
    "plt.title(\"City Latitude vs. Wind Speed (10/25/2022)\")\n",
    "plt.ylabel(\"Wind Speed (mph)\")\n",
    "plt.xlabel(\"Latitude\")\n",
    "plt.grid(True)\n",
    "\n",
    "# Show Plot\n",
    "plt.show()\n",
    "\n",
    "# Save Figure\n",
    "plt.savefig(\"../WeatherPy/City_Latitude_vs_Wind_Speed.png\")"
   ]
  },
  {
   "cell_type": "markdown",
   "metadata": {},
   "source": [
    "## Linear Regression"
   ]
  },
  {
   "cell_type": "code",
   "execution_count": 110,
   "metadata": {},
   "outputs": [],
   "source": [
    "# Create Northern and Southern Hemisphere DataFrames\n",
    "northern_df = weather_data.loc[pd.to_numeric(weather_data[\"Latitude\"]).astype(float) > 0, :]\n",
    "southern_df = weather_data.loc[pd.to_numeric(weather_data[\"Latitude\"]).astype(float) < 0, :]"
   ]
  },
  {
   "cell_type": "markdown",
   "metadata": {},
   "source": [
    "####  Northern Hemisphere - Max Temp vs. Latitude Linear Regression"
   ]
  },
  {
   "cell_type": "code",
   "execution_count": 111,
   "metadata": {},
   "outputs": [
    {
     "name": "stdout",
     "output_type": "stream",
     "text": [
      "Regression line equation is: y = -0.96x + 91.83\n",
      "The r-squared is: -0.8685974968911252\n",
      "The regression displays a negative correlation.\n"
     ]
    },
    {
     "data": {
      "image/png": "[encoded data removed]",
      "text/plain": [
       "<Figure size 432x288 with 1 Axes>"
      ]
     },
     "metadata": {
      "needs_background": "light"
     },
     "output_type": "display_data"
    },
    {
     "data": {
      "text/plain": [
       "<Figure size 432x288 with 0 Axes>"
      ]
     },
     "metadata": {},
     "output_type": "display_data"
    }
   ],
   "source": [
    "x_values = pd.to_numeric(northern_df['Latitude']).astype(float)\n",
    "y_values = pd.to_numeric(northern_df['Max Temperature']).astype(float)\n",
    "(slope, intercept, rvalue, pvalue, stderr) = linregress(x_values, y_values)\n",
    "regress_values = x_values * slope + intercept\n",
    "line_eq = \"y = \" + str(round(slope,2)) + \"x + \" + str(round(intercept,2))\n",
    "print(f\"Regression line equation is: {line_eq}\")\n",
    "plt.scatter(x_values,y_values)\n",
    "plt.plot(x_values,regress_values,\"r-\")\n",
    "plt.annotate(line_eq,(6,10),fontsize=15,color=\"red\")\n",
    "plt.xlabel('Latitude')\n",
    "plt.ylabel('Max Temperature')\n",
    "plt.title('Northern Hemisphere - Max Temp vs. Latitude Linear Regression')\n",
    "print(f\"The r-squared is: {rvalue}\")\n",
    "print(\"The regression displays a negative correlation.\")\n",
    "plt.show()\n",
    "\n",
    "# Save Figure\n",
    "plt.savefig(\"../WeatherPy/NH_Max_Temp_vs_Lat_Regression.png\")"
   ]
  },
  {
   "cell_type": "markdown",
   "metadata": {},
   "source": [
    "####  Southern Hemisphere - Max Temp vs. Latitude Linear Regression"
   ]
  },
  {
   "cell_type": "code",
   "execution_count": 112,
   "metadata": {},
   "outputs": [
    {
     "name": "stdout",
     "output_type": "stream",
     "text": [
      "Regression line equation is: y = 0.53x + 81.86\n",
      "The r-squared is: 0.7452211208264848\n",
      "The regression displays a positive correlation.\n"
     ]
    },
    {
     "data": {
      "image/png": "[encoded data removed]",
      "text/plain": [
       "<Figure size 432x288 with 1 Axes>"
      ]
     },
     "metadata": {
      "needs_background": "light"
     },
     "output_type": "display_data"
    },
    {
     "data": {
      "text/plain": [
       "<Figure size 432x288 with 0 Axes>"
      ]
     },
     "metadata": {},
     "output_type": "display_data"
    }
   ],
   "source": [
    "x_values = pd.to_numeric(southern_df['Latitude']).astype(float)\n",
    "y_values = pd.to_numeric(southern_df['Max Temperature']).astype(float)\n",
    "(slope, intercept, rvalue, pvalue, stderr) = linregress(x_values, y_values)\n",
    "regress_values = x_values * slope + intercept\n",
    "line_eq = \"y = \" + str(round(slope,2)) + \"x + \" + str(round(intercept,2))\n",
    "print(f\"Regression line equation is: {line_eq}\")\n",
    "plt.scatter(x_values,y_values)\n",
    "plt.plot(x_values,regress_values,\"r-\")\n",
    "plt.annotate(line_eq,(6,10),fontsize=15,color=\"red\")\n",
    "plt.xlabel('Latitude')\n",
    "plt.ylabel('Max Temperature')\n",
    "plt.title('Southern Hemisphere - Max Temp vs. Latitude Linear Regression')\n",
    "print(f\"The r-squared is: {rvalue}\")\n",
    "print(\"The regression displays a positive correlation.\")\n",
    "plt.show()\n",
    "\n",
    "# Save Figure\n",
    "plt.savefig(\"../WeatherPy/SH_Max_Temp_vs_Lat_Regression.png\")"
   ]
  },
  {
   "cell_type": "markdown",
   "metadata": {},
   "source": [
    "####  Northern Hemisphere - Humidity (%) vs. Latitude Linear Regression"
   ]
  },
  {
   "cell_type": "code",
   "execution_count": 113,
   "metadata": {},
   "outputs": [
    {
     "name": "stdout",
     "output_type": "stream",
     "text": [
      "Regression line equation is: y = 0.17x + 67.23\n",
      "The r-squared is: 0.16166270628455243\n"
     ]
    },
    {
     "data": {
      "image/png": "[encoded data removed]",
      "text/plain": [
       "<Figure size 432x288 with 1 Axes>"
      ]
     },
     "metadata": {
      "needs_background": "light"
     },
     "output_type": "display_data"
    },
    {
     "data": {
      "text/plain": [
       "<Figure size 432x288 with 0 Axes>"
      ]
     },
     "metadata": {},
     "output_type": "display_data"
    }
   ],
   "source": [
    "x_values = pd.to_numeric(northern_df['Latitude']).astype(float)\n",
    "y_values = pd.to_numeric(northern_df['Humidity']).astype(float)\n",
    "(slope, intercept, rvalue, pvalue, stderr) = linregress(x_values, y_values)\n",
    "regress_values = x_values * slope + intercept\n",
    "line_eq = \"y = \" + str(round(slope,2)) + \"x + \" + str(round(intercept,2))\n",
    "print(f\"Regression line equation is: {line_eq}\")\n",
    "plt.scatter(x_values,y_values)\n",
    "plt.plot(x_values,regress_values,\"r-\")\n",
    "plt.annotate(line_eq,(6,10),fontsize=15,color=\"red\")\n",
    "plt.xlabel('Latitude')\n",
    "plt.ylabel('Humidity')\n",
    "plt.title('Northern Hemisphere - Humidity (%) vs. Latitude Linear Regression')\n",
    "print(f\"The r-squared is: {rvalue}\")\n",
    "plt.show()\n",
    "\n",
    "# Save Figure\n",
    "plt.savefig(\"../WeatherPy/NH_Humidity_vs_Lat_Regression.png\")"
   ]
  },
  {
   "cell_type": "markdown",
   "metadata": {},
   "source": [
    "####  Southern Hemisphere - Humidity (%) vs. Latitude Linear Regression"
   ]
  },
  {
   "cell_type": "code",
   "execution_count": 114,
   "metadata": {},
   "outputs": [
    {
     "name": "stdout",
     "output_type": "stream",
     "text": [
      "Regression line equation is: y = 0.21x + 79.9\n",
      "The r-squared is: 0.1760666179703524\n"
     ]
    },
    {
     "data": {
      "image/png": "[encoded data removed]",
      "text/plain": [
       "<Figure size 432x288 with 1 Axes>"
      ]
     },
     "metadata": {
      "needs_background": "light"
     },
     "output_type": "display_data"
    },
    {
     "data": {
      "text/plain": [
       "<Figure size 432x288 with 0 Axes>"
      ]
     },
     "metadata": {},
     "output_type": "display_data"
    }
   ],
   "source": [
    "x_values = pd.to_numeric(southern_df['Latitude']).astype(float)\n",
    "y_values = pd.to_numeric(southern_df['Humidity']).astype(float)\n",
    "(slope, intercept, rvalue, pvalue, stderr) = linregress(x_values, y_values)\n",
    "regress_values = x_values * slope + intercept\n",
    "line_eq = \"y = \" + str(round(slope,2)) + \"x + \" + str(round(intercept,2))\n",
    "print(f\"Regression line equation is: {line_eq}\")\n",
    "plt.scatter(x_values,y_values)\n",
    "plt.plot(x_values,regress_values,\"r-\")\n",
    "plt.annotate(line_eq,(6,10),fontsize=15,color=\"red\")\n",
    "plt.xlabel('Latitude')\n",
    "plt.ylabel('Humidity')\n",
    "plt.title('Southern Hemisphere - Humidity (%) vs. Latitude Linear Regression')\n",
    "print(f\"The r-squared is: {rvalue}\")\n",
    "plt.show()\n",
    "\n",
    "# Save Figure\n",
    "plt.savefig(\"../WeatherPy/SH_Humidity_vs_Lat_Regression.png\")"
   ]
  },
  {
   "cell_type": "markdown",
   "metadata": {},
   "source": [
    "####  Northern Hemisphere - Cloudiness (%) vs. Latitude Linear Regression"
   ]
  },
  {
   "cell_type": "code",
   "execution_count": 115,
   "metadata": {},
   "outputs": [
    {
     "name": "stdout",
     "output_type": "stream",
     "text": [
      "Regression line equation is: y = 0.23x + 50.04\n",
      "The r-squared is: 0.12167690566152517\n"
     ]
    },
    {
     "data": {
      "image/png": "[encoded data removed]",
      "text/plain": [
       "<Figure size 432x288 with 1 Axes>"
      ]
     },
     "metadata": {
      "needs_background": "light"
     },
     "output_type": "display_data"
    },
    {
     "data": {
      "text/plain": [
       "<Figure size 432x288 with 0 Axes>"
      ]
     },
     "metadata": {},
     "output_type": "display_data"
    }
   ],
   "source": [
    "x_values = pd.to_numeric(northern_df['Latitude']).astype(float)\n",
    "y_values = pd.to_numeric(northern_df['Cloudiness']).astype(float)\n",
    "(slope, intercept, rvalue, pvalue, stderr) = linregress(x_values, y_values)\n",
    "regress_values = x_values * slope + intercept\n",
    "line_eq = \"y = \" + str(round(slope,2)) + \"x + \" + str(round(intercept,2))\n",
    "print(f\"Regression line equation is: {line_eq}\")\n",
    "plt.scatter(x_values,y_values)\n",
    "plt.plot(x_values,regress_values,\"r-\")\n",
    "plt.annotate(line_eq,(6,10),fontsize=15,color=\"red\")\n",
    "plt.xlabel('Latitude')\n",
    "plt.ylabel('Cloudiness')\n",
    "plt.title('Northern Hemisphere - Cloudiness (%) vs. Latitude Linear Regression')\n",
    "print(f\"The r-squared is: {rvalue}\")\n",
    "plt.show()\n",
    "\n",
    "# Save Figure\n",
    "plt.savefig(\"../WeatherPy/NH_Cloudiness.png\")"
   ]
  },
  {
   "cell_type": "markdown",
   "metadata": {},
   "source": [
    "####  Southern Hemisphere - Cloudiness (%) vs. Latitude Linear Regression"
   ]
  },
  {
   "cell_type": "code",
   "execution_count": 116,
   "metadata": {},
   "outputs": [
    {
     "name": "stdout",
     "output_type": "stream",
     "text": [
      "Regression line equation is: y = 0.17x + 64.94\n",
      "The r-squared is: 0.06193302943270533\n"
     ]
    },
    {
     "data": {
      "image/png": "[encoded data removed]",
      "text/plain": [
       "<Figure size 432x288 with 1 Axes>"
      ]
     },
     "metadata": {
      "needs_background": "light"
     },
     "output_type": "display_data"
    },
    {
     "data": {
      "text/plain": [
       "<Figure size 432x288 with 0 Axes>"
      ]
     },
     "metadata": {},
     "output_type": "display_data"
    }
   ],
   "source": [
    "x_values = pd.to_numeric(southern_df['Latitude']).astype(float)\n",
    "y_values = pd.to_numeric(southern_df['Cloudiness']).astype(float)\n",
    "(slope, intercept, rvalue, pvalue, stderr) = linregress(x_values, y_values)\n",
    "regress_values = x_values * slope + intercept\n",
    "line_eq = \"y = \" + str(round(slope,2)) + \"x + \" + str(round(intercept,2))\n",
    "print(f\"Regression line equation is: {line_eq}\")\n",
    "plt.scatter(x_values,y_values)\n",
    "plt.plot(x_values,regress_values,\"r-\")\n",
    "plt.annotate(line_eq,(6,10),fontsize=15,color=\"red\")\n",
    "plt.xlabel('Latitude')\n",
    "plt.ylabel('Cloudiness')\n",
    "plt.title('Southern Hemisphere - Cloudiness (%) vs. Latitude Linear Regression')\n",
    "print(f\"The r-squared is: {rvalue}\")\n",
    "plt.show()\n",
    "\n",
    "# Save Figure\n",
    "plt.savefig(\"../WeatherPy/SH_Cloudiness.png\")"
   ]
  },
  {
   "cell_type": "markdown",
   "metadata": {},
   "source": [
    "####  Northern Hemisphere - Wind Speed (mph) vs. Latitude Linear Regression"
   ]
  },
  {
   "cell_type": "code",
   "execution_count": 117,
   "metadata": {},
   "outputs": [
    {
     "name": "stdout",
     "output_type": "stream",
     "text": [
      "Regression line equation is: y = 0.03x + 6.07\n",
      "The r-squared is: 0.13074332181562437\n"
     ]
    },
    {
     "data": {
      "image/png": "[encoded data removed]",
      "text/plain": [
       "<Figure size 432x288 with 1 Axes>"
      ]
     },
     "metadata": {
      "needs_background": "light"
     },
     "output_type": "display_data"
    },
    {
     "data": {
      "text/plain": [
       "<Figure size 432x288 with 0 Axes>"
      ]
     },
     "metadata": {},
     "output_type": "display_data"
    }
   ],
   "source": [
    "x_values = pd.to_numeric(northern_df['Latitude']).astype(float)\n",
    "y_values = pd.to_numeric(northern_df['Wind Speed']).astype(float)\n",
    "(slope, intercept, rvalue, pvalue, stderr) = linregress(x_values, y_values)\n",
    "regress_values = x_values * slope + intercept\n",
    "line_eq = \"y = \" + str(round(slope,2)) + \"x + \" + str(round(intercept,2))\n",
    "print(f\"Regression line equation is: {line_eq}\")\n",
    "plt.scatter(x_values,y_values)\n",
    "plt.plot(x_values,regress_values,\"r-\")\n",
    "plt.annotate(line_eq,(6,10),fontsize=15,color=\"red\")\n",
    "plt.xlabel('Latitude')\n",
    "plt.ylabel('Wind Speed')\n",
    "plt.title('Northern Hemisphere - Wind Speed (mph) vs. Latitude Linear Regression')\n",
    "print(f\"The r-squared is: {rvalue}\")\n",
    "plt.show()\n",
    "\n",
    "# Save Figure\n",
    "plt.savefig(\"../WeatherPy/NH_Wind_Speed.png\")"
   ]
  },
  {
   "cell_type": "markdown",
   "metadata": {},
   "source": [
    "####  Southern Hemisphere - Wind Speed (mph) vs. Latitude Linear Regression"
   ]
  },
  {
   "cell_type": "code",
   "execution_count": 118,
   "metadata": {},
   "outputs": [
    {
     "name": "stdout",
     "output_type": "stream",
     "text": [
      "Regression line equation is: y = -0.11x + 6.29\n",
      "The r-squared is: -0.24332784483011938\n"
     ]
    },
    {
     "data": {
      "image/png": "[encoded data removed]",
      "text/plain": [
       "<Figure size 432x288 with 1 Axes>"
      ]
     },
     "metadata": {
      "needs_background": "light"
     },
     "output_type": "display_data"
    },
    {
     "data": {
      "text/plain": [
       "<Figure size 432x288 with 0 Axes>"
      ]
     },
     "metadata": {},
     "output_type": "display_data"
    }
   ],
   "source": [
    "x_values = pd.to_numeric(southern_df['Latitude']).astype(float)\n",
    "y_values = pd.to_numeric(southern_df['Wind Speed']).astype(float)\n",
    "(slope, intercept, rvalue, pvalue, stderr) = linregress(x_values, y_values)\n",
    "regress_values = x_values * slope + intercept\n",
    "line_eq = \"y = \" + str(round(slope,2)) + \"x + \" + str(round(intercept,2))\n",
    "print(f\"Regression line equation is: {line_eq}\")\n",
    "plt.scatter(x_values,y_values)\n",
    "plt.plot(x_values,regress_values,\"r-\")\n",
    "plt.annotate(line_eq,(6,10),fontsize=15,color=\"red\")\n",
    "plt.xlabel('Latitude')\n",
    "plt.ylabel('Wind Speed')\n",
    "plt.title('Southern Hemisphere - Wind Speed (mph) vs. Latitude Linear Regression')\n",
    "print(f\"The r-squared is: {rvalue}\")\n",
    "plt.show()\n",
    "\n",
    "# Save Figure\n",
    "plt.savefig(\"../WeatherPy/SH_Wind_Speed.png\")"
   ]
  },
  {
   "cell_type": "code",
   "execution_count": null,
   "metadata": {},
   "outputs": [],
   "source": []
  }
 ],
 "metadata": {
  "anaconda-cloud": {},
  "kernel_info": {
   "name": "python3"
  },
  "kernelspec": {
   "display_name": "PythonData",
   "language": "python",
   "name": "pythondata"
  },
  "language_info": {
   "codemirror_mode": {
    "name": "ipython",
    "version": 3
   },
   "file_extension": ".py",
   "mimetype": "text/x-python",
   "name": "python",
   "nbconvert_exporter": "python",
   "pygments_lexer": "ipython3",
   "version": "3.9.12"
  },
  "latex_envs": {
   "LaTeX_envs_menu_present": true,
   "autoclose": false,
   "autocomplete": true,
   "bibliofile": "biblio.bib",
   "cite_by": "apalike",
   "current_citInitial": 1,
   "eqLabelWithNumbers": true,
   "eqNumInitial": 1,
   "hotkeys": {
    "equation": "Ctrl-E",
    "itemize": "Ctrl-I"
   },
   "labels_anchors": false,
   "latex_user_defs": false,
   "report_style_numbering": false,
   "user_envs_cfg": false
  },
  "nteract": {
   "version": "0.12.3"
  }
 },
 "nbformat": 4,
 "nbformat_minor": 2
}
